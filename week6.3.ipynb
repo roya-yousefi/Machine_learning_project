{
 "cells": [
  {
   "cell_type": "markdown",
   "metadata": {},
   "source": [
    "## Portfolio assignment week 6.3"
   ]
  },
  {
   "cell_type": "code",
   "execution_count": null,
   "metadata": {},
   "outputs": [],
   "source": [
    "import pandas as pd\n",
    "import numpy as np\n",
    "from sklearn.naive_bayes import GaussianNB, CategoricalNB\n"
   ]
  },
  {
   "cell_type": "code",
   "execution_count": null,
   "metadata": {},
   "outputs": [
    {
     "name": "stdout",
     "output_type": "stream",
     "text": [
      "  shivers running nose headache test result\n",
      "0       Y            N       No    Negative\n",
      "1       N            N     Mild    Negative\n",
      "2       Y            Y       No    Positive\n",
      "3       N            Y       No    Negative\n",
      "4       N            N    Heavy    Positive\n",
      "5       Y            N       No    Negative\n",
      "6       Y            Y     Mild    Positive\n"
     ]
    }
   ],
   "source": [
    "data_corona = {\n",
    "    'shivers': ['Y', 'N', 'Y', 'N', 'N', 'Y', 'Y'],\n",
    "    'running nose': ['N', 'N', 'Y', 'Y', 'N', 'N', 'Y'],\n",
    "    'headache': ['No', 'Mild', 'No', 'No', 'Heavy', 'No', 'Mild'],\n",
    "    'test result': ['Negative', 'Negative', 'Positive', 'Negative', 'Positive', 'Negative', 'Positive']\n",
    "}\n",
    "\n",
    "corona = pd.DataFrame(data_corona)\n",
    "print(corona)"
   ]
  },
  {
   "attachments": {},
   "cell_type": "markdown",
   "metadata": {},
   "source": [
    "Explain why it is not useful to include the column 'Roommate' in a classification procedure :"
   ]
  },
  {
   "attachments": {},
   "cell_type": "markdown",
   "metadata": {},
   "source": [
    "\"Roommate\" is a non-informative field and does not provide any valuable information.\n",
    "Excluding it from the analysis streamlines the process and enhances the model's accuracy."
   ]
  },
  {
   "attachments": {},
   "cell_type": "markdown",
   "metadata": {},
   "source": [
    "Build a Categorical Naive Bayes classifier using the given dataset. The \"Test Results\" will be treated as the classes, while the remaining features will serve as the input data. To prepare the nominal data for training, utilize the get_dummies function from the Pandas library to transform it into a format compatible with sklearn. Ensure to include all seven instances in the training process."
   ]
  },
  {
   "cell_type": "code",
   "execution_count": null,
   "metadata": {},
   "outputs": [
    {
     "name": "stdout",
     "output_type": "stream",
     "text": [
      "0    Negative\n",
      "1    Negative\n",
      "2    Positive\n",
      "3    Negative\n",
      "4    Positive\n",
      "5    Negative\n",
      "6    Positive\n",
      "Name: test result, dtype: object\n",
      "   shivers_Y  running nose_Y  headache_Mild  headache_No\n",
      "0          1               0              0            1\n",
      "1          0               0              1            0\n",
      "2          1               1              0            1\n",
      "3          0               1              0            1\n",
      "4          0               0              0            0\n",
      "5          1               0              0            1\n",
      "6          1               1              1            0\n"
     ]
    }
   ],
   "source": [
    "X = pd.get_dummies(df_corona[['running nose', 'headache','shivers']], drop_first=True)\n",
    "y = df_corona['test result']\n",
    "\n",
    "print(y)\n",
    "print(X)\n"
   ]
  },
  {
   "attachments": {},
   "cell_type": "markdown",
   "metadata": {},
   "source": [
    "When using the fitted classifier to make predictions on the test data, it is expected that the prediction for observation number 5 (1-based) will be incorrect. The classifier wrongly predicts a negative result, whereas the actual value for that observation is positive."
   ]
  },
  {
   "cell_type": "code",
   "execution_count": null,
   "metadata": {},
   "outputs": [
    {
     "name": "stdout",
     "output_type": "stream",
     "text": [
      "['Negative']\n"
     ]
    }
   ],
   "source": [
    "classifier = CategoricalNB()\n",
    "classifier.fit(X,y)\n",
    "\n",
    "# test with observation #5\n",
    "pred_05 = classifier.predict([[1, 0, 0, 1]])\n",
    "print(pred_05)"
   ]
  },
  {
   "attachments": {},
   "cell_type": "markdown",
   "metadata": {},
   "source": [
    "Show by manual calculation that the prediction for this instance is indeed higher (p=0.527) for the Negative class than for the Positive class:"
   ]
  },
  {
   "cell_type": "code",
   "execution_count": null,
   "metadata": {},
   "outputs": [
    {
     "name": "stdout",
     "output_type": "stream",
     "text": [
      "negetive probability : [0.63163214 0.        ]\n",
      "positive probability : [0.         0.36836786]\n"
     ]
    }
   ],
   "source": [
    "# Obtain the predicted probabilities for each class using the classifier\n",
    "pred_prob = classifier.predict_proba(X)\n",
    "\n",
    "# Find the index position of the 'Negative' class\n",
    "neg_index = list(classifier.classes_).index('Negative')\n",
    "\n",
    "# Find the index position of the 'Positive' class\n",
    "pos_index = list(classifier.classes_).index('Positive')\n",
    "\n",
    "# Extract the predicted probabilities for the fifth observation\n",
    "pred_5 = pred_prob[4]\n",
    "\n",
    "# Get the probability for the 'Negative' class\n",
    "neg_prob = np.where(classifier.classes_ == 'Negative', pred_5, 0)\n",
    "\n",
    "# Get the probability for the 'Positive' class\n",
    "pos_prob = np.where(classifier.classes_ == 'Positive', pred_5, 0)\n",
    "\n",
    "# Print the probability for the 'Negative' class\n",
    "print(\"Negative probability:\", neg_prob)\n",
    "\n",
    "# Print the probability for the 'Positive' class\n",
    "print(\"Positive probability:\", pos_prob)\n",
    "\n"
   ]
  }
 ],
 "metadata": {
  "language_info": {
   "name": "python"
  },
  "orig_nbformat": 4
 },
 "nbformat": 4,
 "nbformat_minor": 2
}
